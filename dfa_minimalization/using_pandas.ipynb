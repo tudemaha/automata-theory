{
 "cells": [
  {
   "cell_type": "code",
   "execution_count": 1,
   "metadata": {},
   "outputs": [],
   "source": [
    "epsilon = '\\u03B5'\n",
    "empty = '\\u2205'"
   ]
  },
  {
   "cell_type": "code",
   "execution_count": 2,
   "metadata": {},
   "outputs": [
    {
     "name": "stdout",
     "output_type": "stream",
     "text": [
      "['q4'] q0 5\n"
     ]
    }
   ],
   "source": [
    "transitions = {\n",
    "    ('q0', 'a'): 'q1',\n",
    "    ('q0', 'b'): 'q2',\n",
    "    ('q1', 'a'): 'q1',\n",
    "    ('q1', 'b'): 'q3',\n",
    "    ('q2', 'a'): 'q1',\n",
    "    ('q2', 'b'): 'q2',\n",
    "    ('q3', 'a'): 'q1',\n",
    "    ('q3', 'b'): 'q4',\n",
    "    ('q4', 'a'): 'q1',\n",
    "    ('q4', 'b'): 'q2'\n",
    "}\n",
    "alphabets = ['a', 'b']\n",
    "final_state = ['q4']\n",
    "start_state = 'q0'\n",
    "state_count = int(len(transitions) / 2)\n",
    "print(final_state, start_state, state_count)"
   ]
  },
  {
   "cell_type": "code",
   "execution_count": 30,
   "metadata": {},
   "outputs": [
    {
     "name": "stdout",
     "output_type": "stream",
     "text": [
      "['q0', 'q1', 'q2', 'q3', 'q4']\n",
      "[['∅' '∅' '∅' '∅' '∅']\n",
      " ['' '∅' '∅' '∅' '∅']\n",
      " ['' '' '∅' '∅' '∅']\n",
      " ['' '' '' '∅' '∅']\n",
      " ['' '' '' '' '∅']]\n"
     ]
    }
   ],
   "source": [
    "table, states = [], []\n",
    "for i in range(state_count):\n",
    "    table.append([])\n",
    "    states.append('q'+str(i))\n",
    "    for j in range(state_count):\n",
    "        if j >= i:\n",
    "            table[i].append(empty)\n",
    "        else:\n",
    "            table[i].append('')\n",
    "\n",
    "    \n",
    "print(states)\n",
    "\n",
    "import numpy as np\n",
    "print(np.array(table))"
   ]
  },
  {
   "cell_type": "code",
   "execution_count": 31,
   "metadata": {},
   "outputs": [
    {
     "name": "stdout",
     "output_type": "stream",
     "text": [
      "   q0 q1 q2 q3 q4\n",
      "q0  ∅  ∅  ∅  ∅  ∅\n",
      "q1     ∅  ∅  ∅  ∅\n",
      "q2        ∅  ∅  ∅\n",
      "q3           ∅  ∅\n",
      "q4              ∅\n"
     ]
    }
   ],
   "source": [
    "import pandas as pd\n",
    "table = pd.DataFrame(table, index=states, columns=states)\n",
    "print(table)"
   ]
  },
  {
   "cell_type": "code",
   "execution_count": 32,
   "metadata": {},
   "outputs": [
    {
     "name": "stdout",
     "output_type": "stream",
     "text": [
      "   q0 q1 q2 q3 q4\n",
      "q0  ∅  ∅  ∅  ∅  ∅\n",
      "q1     ∅  ∅  ∅  ∅\n",
      "q2        ∅  ∅  ∅\n",
      "q3           ∅  ∅\n",
      "q4  ε  ε  ε  ε  ∅\n"
     ]
    }
   ],
   "source": [
    "for i in final_state:\n",
    "    for j in states:\n",
    "        if j not in i:\n",
    "            # print(i,j)\n",
    "            table[j][i] = epsilon\n",
    "\n",
    "print(table)"
   ]
  },
  {
   "cell_type": "code",
   "execution_count": 14,
   "metadata": {},
   "outputs": [
    {
     "name": "stdout",
     "output_type": "stream",
     "text": [
      "   q0 q1 q2 q3 q4\n",
      "q0  ∅  ∅  ∅  ∅  ∅\n",
      "q1     ∅  ∅  ∅  ∅\n",
      "q2        ∅  ∅  ∅\n",
      "q3  b  b  b  ∅  ∅\n",
      "q4  ε  ε  ε  ε  ∅\n",
      "   q0 q1 q2 q3 q4\n",
      "q0  ∅  ∅  ∅  ∅  ∅\n",
      "q1  b  ∅  ∅  ∅  ∅\n",
      "q2     b  ∅  ∅  ∅\n",
      "q3  b  b  b  ∅  ∅\n",
      "q4  ε  ε  ε  ε  ∅\n",
      "   q0 q1 q2 q3 q4\n",
      "q0  ∅  ∅  ∅  ∅  ∅\n",
      "q1  b  ∅  ∅  ∅  ∅\n",
      "q2     b  ∅  ∅  ∅\n",
      "q3  b  b  b  ∅  ∅\n",
      "q4  ε  ε  ε  ε  ∅\n",
      "   q0 q1 q2 q3 q4\n",
      "q0  ∅  ∅  ∅  ∅  ∅\n",
      "q1  b  ∅  ∅  ∅  ∅\n",
      "q2     b  ∅  ∅  ∅\n",
      "q3  b  b  b  ∅  ∅\n",
      "q4  ε  ε  ε  ε  ∅\n"
     ]
    }
   ],
   "source": [
    "def iterate(table):\n",
    "    global result\n",
    "    new_table = table.copy()\n",
    "    change = 0\n",
    "    for row in table:\n",
    "        for column in table:\n",
    "            if table[column][row] == '':\n",
    "                result = ['', '']\n",
    "                for alphabet in alphabets:\n",
    "                    result[0] = transitions[(row, alphabet)]\n",
    "                    result[1] = transitions[(column, alphabet)]\n",
    "                    if (table[result[1]][result[0]] != '' and table[result[1]][result[0]] != empty) or ((table[result[0]][result[1]] != '' and table[result[0]][result[1]] != empty)):\n",
    "                        new_table[column][row] = alphabet\n",
    "                        change = 1\n",
    "                        break\n",
    "    # print(table)\n",
    "    print(new_table)\n",
    "\n",
    "    if change: iterate(new_table)\n",
    "    else: result = new_table\n",
    "\n",
    "iterate(table)\n",
    "print(result)"
   ]
  },
  {
   "cell_type": "code",
   "execution_count": 13,
   "metadata": {},
   "outputs": [
    {
     "name": "stdout",
     "output_type": "stream",
     "text": [
      "[('q0', 'q2')]\n"
     ]
    }
   ],
   "source": [
    "tak_guna = []\n",
    "for column in states:\n",
    "    for row in states:\n",
    "        if result[column][row] == '':\n",
    "            tak_guna.append((column, row))\n",
    "\n",
    "print(tak_guna)"
   ]
  },
  {
   "cell_type": "code",
   "execution_count": 23,
   "metadata": {},
   "outputs": [
    {
     "name": "stdout",
     "output_type": "stream",
     "text": [
      "('q0/q2', 'a') : q1\n",
      "('q0/q2', 'b') : q0/q2\n",
      "('q1', 'a') : q1\n",
      "('q1', 'b') : q3\n",
      "('q3', 'a') : q1\n",
      "('q3', 'b') : q4\n",
      "('q4', 'a') : q1\n",
      "('q4', 'b') : q0/q2\n"
     ]
    }
   ],
   "source": [
    "new_transitions = {}\n",
    "for key, value in transitions.items():\n",
    "    for useless in tak_guna:\n",
    "        state_name = '/'.join(useless)\n",
    "        if key[0] in useless:\n",
    "            new_state = (state_name, key[1])\n",
    "            if value in useless:\n",
    "                new_value = state_name\n",
    "            else:\n",
    "                new_value = value\n",
    "            if new_state not in new_transitions:\n",
    "                new_transitions[new_state] = new_value\n",
    "        elif value in useless:\n",
    "            new_transitions[key] = state_name\n",
    "        else:\n",
    "            new_transitions[key] = value\n",
    "\n",
    "for key, value in new_transitions.items():\n",
    "    print(key, ':', value) \n",
    "        "
   ]
  },
  {
   "cell_type": "code",
   "execution_count": 17,
   "metadata": {},
   "outputs": [
    {
     "name": "stdout",
     "output_type": "stream",
     "text": [
      "{'a': 'c'}\n"
     ]
    }
   ],
   "source": [
    "dicti = {}\n",
    "dicti['a'] = 'b'\n",
    "dicti['a'] = 'c'\n",
    "\n",
    "print(dicti)"
   ]
  }
 ],
 "metadata": {
  "kernelspec": {
   "display_name": "Python 3.10.4 64-bit",
   "language": "python",
   "name": "python3"
  },
  "language_info": {
   "codemirror_mode": {
    "name": "ipython",
    "version": 3
   },
   "file_extension": ".py",
   "mimetype": "text/x-python",
   "name": "python",
   "nbconvert_exporter": "python",
   "pygments_lexer": "ipython3",
   "version": "3.10.4"
  },
  "orig_nbformat": 4,
  "vscode": {
   "interpreter": {
    "hash": "9ea9476b37b6fae4da8371e00cd71cffa632be7a689f464a4d068702c93cf300"
   }
  }
 },
 "nbformat": 4,
 "nbformat_minor": 2
}

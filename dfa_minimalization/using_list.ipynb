{
 "cells": [
  {
   "cell_type": "code",
   "execution_count": 1,
   "metadata": {},
   "outputs": [],
   "source": [
    "epsilon = '\\u03B5'\n",
    "empty = '\\u2205'"
   ]
  },
  {
   "cell_type": "code",
   "execution_count": 2,
   "metadata": {},
   "outputs": [
    {
     "name": "stdout",
     "output_type": "stream",
     "text": [
      "['q4'] q0 5\n"
     ]
    }
   ],
   "source": [
    "transitions = {\n",
    "    ('q0', 'a'): 'q1',\n",
    "    ('q0', 'b'): 'q2',\n",
    "    ('q1', 'a'): 'q1',\n",
    "    ('q1', 'b'): 'q3',\n",
    "    ('q2', 'a'): 'q1',\n",
    "    ('q2', 'b'): 'q2',\n",
    "    ('q3', 'a'): 'q1',\n",
    "    ('q3', 'b'): 'q4',\n",
    "    ('q4', 'a'): 'q1',\n",
    "    ('q4', 'b'): 'q2'\n",
    "}\n",
    "alphabets = ['a', 'b']\n",
    "final_state = ['q4']\n",
    "start_state = 'q0'\n",
    "state_count = int(len(transitions) / 2)\n",
    "print(final_state, start_state, state_count)"
   ]
  },
  {
   "cell_type": "code",
   "execution_count": 3,
   "metadata": {},
   "outputs": [
    {
     "name": "stdout",
     "output_type": "stream",
     "text": [
      "['q0', 'q1', 'q2', 'q3', 'q4']\n",
      "[['∅' '∅' '∅' '∅' '∅']\n",
      " ['' '∅' '∅' '∅' '∅']\n",
      " ['' '' '∅' '∅' '∅']\n",
      " ['' '' '' '∅' '∅']\n",
      " ['' '' '' '' '∅']]\n"
     ]
    }
   ],
   "source": [
    "table, states = [], []\n",
    "for i in range(state_count):\n",
    "    table.append([])\n",
    "    for j in range(state_count):\n",
    "        table[i].append('')\n",
    "    for k in range(state_count):\n",
    "        if k >= i: table[i][k] = empty\n",
    "\n",
    "for i in range(state_count):\n",
    "    states.append('q'+str(i))\n",
    "print(states)\n",
    "\n",
    "import numpy as np\n",
    "print(np.array(table))"
   ]
  },
  {
   "cell_type": "code",
   "execution_count": 4,
   "metadata": {},
   "outputs": [
    {
     "name": "stdout",
     "output_type": "stream",
     "text": [
      "[['∅' '∅' '∅' '∅' '∅']\n",
      " ['' '∅' '∅' '∅' '∅']\n",
      " ['' '' '∅' '∅' '∅']\n",
      " ['' '' '' '∅' '∅']\n",
      " ['ε' 'ε' 'ε' 'ε' '∅']]\n"
     ]
    }
   ],
   "source": [
    "for final in final_state:\n",
    "    i = int([*final][1])\n",
    "    for j, state in enumerate(states):\n",
    "        if state not in final:\n",
    "            table[i][j] = epsilon\n",
    "import numpy as np\n",
    "print(np.array(table))"
   ]
  },
  {
   "cell_type": "code",
   "execution_count": 5,
   "metadata": {},
   "outputs": [
    {
     "name": "stdout",
     "output_type": "stream",
     "text": [
      "[['∅' '∅' '∅' '∅' '∅']\n",
      " ['' '∅' '∅' '∅' '∅']\n",
      " ['' '' '∅' '∅' '∅']\n",
      " ['b' 'b' 'b' '∅' '∅']\n",
      " ['ε' 'ε' 'ε' 'ε' '∅']]\n",
      "\n",
      "[['∅' '∅' '∅' '∅' '∅']\n",
      " ['b' '∅' '∅' '∅' '∅']\n",
      " ['' '' '∅' '∅' '∅']\n",
      " ['b' 'b' 'b' '∅' '∅']\n",
      " ['ε' 'ε' 'ε' 'ε' '∅']]\n",
      "\n",
      "[['∅' '∅' '∅' '∅' '∅']\n",
      " ['b' '∅' '∅' '∅' '∅']\n",
      " ['' '' '∅' '∅' '∅']\n",
      " ['b' 'b' 'b' '∅' '∅']\n",
      " ['ε' 'ε' 'ε' 'ε' '∅']]\n",
      "\n"
     ]
    }
   ],
   "source": [
    "import numpy as np\n",
    "def iteration2(table):\n",
    "    new_table2 = table.copy()\n",
    "    change2 = 0\n",
    "    for row in range(1, state_count):\n",
    "        for column in range(0, row + 1):\n",
    "            if table[row][column] == '':\n",
    "                result = ['', '']\n",
    "                for alphabet in alphabets:\n",
    "                    result[0] = transitions[(states[row], alphabet)]\n",
    "                    result[1] = transitions[(states[column], alphabet)]\n",
    "                    # print(result[0], result[1])\n",
    "                    # print(states.index(result[0]), states.index(result[1]))\n",
    "                    if (table[states.index(result[0])][states.index(result[1])] != '' and table[states.index(result[0])][states.index(result[1])] != empty):\n",
    "                        new_table2[row][column] = alphabet\n",
    "                        change2 = 1\n",
    "                        break\n",
    "\n",
    "    print(np.array(new_table2), end='\\n\\n')\n",
    "    \n",
    "    if change2: iteration2(new_table2)\n",
    "\n",
    "iteration2(table)"
   ]
  }
 ],
 "metadata": {
  "kernelspec": {
   "display_name": "Python 3.10.4 64-bit",
   "language": "python",
   "name": "python3"
  },
  "language_info": {
   "codemirror_mode": {
    "name": "ipython",
    "version": 3
   },
   "file_extension": ".py",
   "mimetype": "text/x-python",
   "name": "python",
   "nbconvert_exporter": "python",
   "pygments_lexer": "ipython3",
   "version": "3.10.4"
  },
  "orig_nbformat": 4,
  "vscode": {
   "interpreter": {
    "hash": "9ea9476b37b6fae4da8371e00cd71cffa632be7a689f464a4d068702c93cf300"
   }
  }
 },
 "nbformat": 4,
 "nbformat_minor": 2
}

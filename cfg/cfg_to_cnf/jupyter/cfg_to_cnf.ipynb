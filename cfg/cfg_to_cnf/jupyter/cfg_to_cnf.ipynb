{
 "cells": [
  {
   "cell_type": "code",
   "execution_count": 14,
   "metadata": {},
   "outputs": [],
   "source": [
    "cfg = [\n",
    "    ['T', {'TT'}],\n",
    "    ['T', {'A'}],\n",
    "    ['A', {'aAa'}],\n",
    "    ['A', {'bB'}],\n",
    "    ['B', {'bB'}],\n",
    "    ['B', {'ε'}]\n",
    "]\n",
    "\n",
    "start_symbol = 'T'"
   ]
  },
  {
   "cell_type": "code",
   "execution_count": 16,
   "metadata": {},
   "outputs": [
    {
     "name": "stdout",
     "output_type": "stream",
     "text": [
      "False\n",
      "[['T', {'TT'}], ['T', {'A'}], ['A', {'aAa'}], ['A', {'bB'}], ['B', {'bB'}], ['B', {'ε'}]]\n"
     ]
    }
   ],
   "source": [
    "add_new_start = False\n",
    "\n",
    "def check_start():\n",
    "    global add_new_start\n",
    "    for row in cfg:\n",
    "        for element in row[1]:\n",
    "            if start_symbol in element:\n",
    "                print(element)\n",
    "                add_new_start = True\n",
    "                return\n",
    "\n",
    "if add_new_start:\n",
    "    cfg.append([f'{start_symbol}*', {start_symbol}])\n",
    "\n",
    "print(add_new_start)\n",
    "print(cfg)"
   ]
  }
 ],
 "metadata": {
  "kernelspec": {
   "display_name": "Python 3.11.0 64-bit",
   "language": "python",
   "name": "python3"
  },
  "language_info": {
   "codemirror_mode": {
    "name": "ipython",
    "version": 3
   },
   "file_extension": ".py",
   "mimetype": "text/x-python",
   "name": "python",
   "nbconvert_exporter": "python",
   "pygments_lexer": "ipython3",
   "version": "3.11.0"
  },
  "orig_nbformat": 4,
  "vscode": {
   "interpreter": {
    "hash": "8c9dcfb3def1273d6f143982ad221710de63cbd727dea50e6a781e3fe0425823"
   }
  }
 },
 "nbformat": 4,
 "nbformat_minor": 2
}

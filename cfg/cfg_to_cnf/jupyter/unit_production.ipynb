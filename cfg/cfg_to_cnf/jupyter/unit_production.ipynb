{
 "cells": [
  {
   "cell_type": "code",
   "execution_count": 1,
   "metadata": {},
   "outputs": [
    {
     "name": "stdout",
     "output_type": "stream",
     "text": [
      "[['S' {'XY'}]\n",
      " ['X' {'a'}]\n",
      " ['Y' {'Z', 'b'}]\n",
      " ['Z' {'M'}]\n",
      " ['M' {'N'}]\n",
      " ['N' {'a'}]]\n"
     ]
    }
   ],
   "source": [
    "from numpy import array\n",
    "cfg = [\n",
    "    ['S', {'XY'}],\n",
    "    ['X', {'a'}],\n",
    "    ['Y', {'Z', 'b'}],\n",
    "    ['Z', {'M'}],\n",
    "    ['M', {'N'}],\n",
    "    ['N', {'a'}]\n",
    "]\n",
    "print(array(cfg, dtype=object))"
   ]
  },
  {
   "cell_type": "code",
   "execution_count": 2,
   "metadata": {},
   "outputs": [
    {
     "name": "stdout",
     "output_type": "stream",
     "text": [
      "[['X', {'a'}], ['Y', {'b'}], ['N', {'a'}]]\n",
      "\n",
      "[2, 3, 4]\n"
     ]
    }
   ],
   "source": [
    "import re\n",
    "\n",
    "small = re.compile(r'[a-z]')\n",
    "capital = re.compile(r'[A-Z]')\n",
    "\n",
    "one_terminal = []\n",
    "one_non_terminal = []\n",
    "for i, row in enumerate(cfg):\n",
    "    set_of_terminal = set()\n",
    "    for element in row[1]:\n",
    "        terminal = small.findall(element)\n",
    "        if len(element) == 1 and len(terminal) == 1: set_of_terminal.add(*terminal)\n",
    "\n",
    "        non_terminal = capital.findall(element)\n",
    "        if len(non_terminal) == 1:\n",
    "            if i not in one_non_terminal: one_non_terminal.append(i)\n",
    "\n",
    "    if set_of_terminal != set(): one_terminal.append([row[0], set_of_terminal])\n",
    "\n",
    "print(one_terminal, end='\\n\\n')\n",
    "print(one_non_terminal)\n",
    "    "
   ]
  },
  {
   "cell_type": "code",
   "execution_count": 3,
   "metadata": {},
   "outputs": [
    {
     "name": "stdout",
     "output_type": "stream",
     "text": [
      "now 0 3\n",
      "['Y', {'Z', 'b'}]\n",
      "['Z', {'M'}]\n",
      "['M', {'N'}]\n",
      "[['X', {'a'}], ['Y', {'b'}], ['N', {'a'}]]\n",
      "['M', {'a'}]\n",
      "\n",
      "now 1 3\n",
      "['Y', {'Z', 'b'}]\n",
      "['Z', {'M'}]\n",
      "[['X', {'a'}], ['Y', {'b'}], ['N', {'a'}], ['M', {'a'}]]\n",
      "['Z', {'a'}]\n",
      "\n",
      "now 2 3\n",
      "['Y', {'Z', 'b'}]\n",
      "[['X', {'a'}], ['Y', {'b'}], ['N', {'a'}], ['M', {'a'}], ['Z', {'a'}]]\n",
      "['Y', {'a'}]\n",
      "\n",
      "now 3 3\n",
      "finish\n",
      "[['X', {'a'}], ['Y', {'b'}], ['N', {'a'}], ['M', {'a'}], ['Z', {'a'}], ['Y', {'a'}]]\n"
     ]
    }
   ],
   "source": [
    "count = len(one_non_terminal)\n",
    "now = 0\n",
    "while now <= count:\n",
    "    print('now', now, count)\n",
    "    for i, x in enumerate(one_non_terminal):\n",
    "        rule = cfg[x]\n",
    "        print(rule)\n",
    "        for element in rule[1]:\n",
    "            for row in one_terminal:\n",
    "                if element == row[0]:\n",
    "                    print(one_terminal)\n",
    "                    one_terminal.append([rule[0], row[1]])\n",
    "                    one_non_terminal.pop(i)\n",
    "                    print([rule[0], row[1]], end='\\n\\n')\n",
    "                    break\n",
    "    now += 1\n",
    "print('finish')\n",
    "print(one_terminal)"
   ]
  },
  {
   "cell_type": "code",
   "execution_count": 4,
   "metadata": {},
   "outputs": [
    {
     "name": "stdout",
     "output_type": "stream",
     "text": [
      "[['S', {'XY'}], ['X', {'a'}], ['Y', {'Z', 'a', 'b'}], ['Z', {'a', 'M'}], ['M', {'a', 'N'}], ['N', {'a'}]]\n"
     ]
    }
   ],
   "source": [
    "for rule in one_terminal:\n",
    "    for i, row in enumerate(cfg):\n",
    "        if row[0] == rule[0]:\n",
    "            cfg[i][1] = cfg[i][1].union(rule[1])\n",
    "\n",
    "print(cfg)"
   ]
  },
  {
   "cell_type": "code",
   "execution_count": 5,
   "metadata": {},
   "outputs": [
    {
     "name": "stdout",
     "output_type": "stream",
     "text": [
      "[['S', {'XY'}], ['X', {'a'}], ['Y', {'Z', 'a', 'b'}], ['Z', {'a', 'M'}], ['M', {'a', 'N'}], ['N', {'a'}]] \n",
      " [['S', {'XY'}], ['X', {'a'}], ['Y', {'a', 'b'}], ['Z', {'a'}], ['M', {'a'}], ['N', {'a'}]]\n"
     ]
    }
   ],
   "source": [
    "import copy\n",
    "\n",
    "new_cfg = copy.deepcopy(cfg)\n",
    "\n",
    "for i, row in enumerate(cfg):\n",
    "    for j, element in enumerate(row[1]):\n",
    "        all_element = capital.findall(element)\n",
    "        if len(all_element) == 1:\n",
    "            new_cfg[i][1].remove(*all_element)\n",
    "\n",
    "print(cfg, '\\n' ,new_cfg)"
   ]
  }
 ],
 "metadata": {
  "kernelspec": {
   "display_name": "Python 3.11.0 64-bit",
   "language": "python",
   "name": "python3"
  },
  "language_info": {
   "codemirror_mode": {
    "name": "ipython",
    "version": 3
   },
   "file_extension": ".py",
   "mimetype": "text/x-python",
   "name": "python",
   "nbconvert_exporter": "python",
   "pygments_lexer": "ipython3",
   "version": "3.11.0"
  },
  "orig_nbformat": 4,
  "vscode": {
   "interpreter": {
    "hash": "8c9dcfb3def1273d6f143982ad221710de63cbd727dea50e6a781e3fe0425823"
   }
  }
 },
 "nbformat": 4,
 "nbformat_minor": 2
}

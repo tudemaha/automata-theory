{
 "cells": [
  {
   "cell_type": "code",
   "execution_count": 1,
   "metadata": {},
   "outputs": [
    {
     "name": "stdout",
     "output_type": "stream",
     "text": [
      "[['S' {'ABAC'}]\n",
      " ['A' {'ε', 'aA'}]\n",
      " ['B' {'bB', 'ε'}]\n",
      " ['C' {'C'}]]\n"
     ]
    }
   ],
   "source": [
    "from numpy import array\n",
    "cfg = [\n",
    "    [\"S\", {\"ABAC\"}],\n",
    "    [\"A\", {\"aA\", \"ε\"}],\n",
    "    [\"B\", {\"bB\", \"ε\"}],\n",
    "    [\"C\", {\"C\"}]\n",
    "]\n",
    "\n",
    "print(array(cfg, dtype=object))"
   ]
  },
  {
   "cell_type": "code",
   "execution_count": 2,
   "metadata": {},
   "outputs": [
    {
     "name": "stdout",
     "output_type": "stream",
     "text": [
      "['A', 'B']\n"
     ]
    }
   ],
   "source": [
    "heads = []\n",
    "for row in cfg:\n",
    "    if 'ε' in row[1]:\n",
    "        heads.append(row[0])\n",
    "print(heads)"
   ]
  },
  {
   "cell_type": "code",
   "execution_count": 3,
   "metadata": {},
   "outputs": [
    {
     "name": "stdout",
     "output_type": "stream",
     "text": [
      "[['', set()], ['', set()], ['', set()], ['', set()]]\n"
     ]
    }
   ],
   "source": [
    "new_cfg = []\n",
    "for row in cfg:\n",
    "    new_cfg.append(['', set()])\n",
    "\n",
    "print(new_cfg)"
   ]
  },
  {
   "cell_type": "code",
   "execution_count": 8,
   "metadata": {},
   "outputs": [
    {
     "name": "stdout",
     "output_type": "stream",
     "text": [
      "{'ABAC'}\n",
      "[(0,), (2,), (0, 2)]\n",
      "{'ABAC', 'BC', 'BAC', 'ABC'}\n",
      "\n",
      "{'aA'}\n",
      "[(1,)]\n",
      "{'aA', 'a'}\n",
      "\n",
      "{'bB'}\n",
      "{'bB'}\n",
      "\n",
      "{'C'}\n",
      "{'C'}\n",
      "\n",
      "{'ABAC'}\n",
      "[(1,)]\n",
      "{'AAC', 'ABAC'}\n",
      "\n",
      "{'aA'}\n",
      "{'aA'}\n",
      "\n",
      "{'bB'}\n",
      "[(1,)]\n",
      "{'b', 'bB'}\n",
      "\n",
      "{'C'}\n",
      "{'C'}\n",
      "\n",
      "[['S', {'BC', 'AAC', 'ABAC', 'BAC', 'ABC'}], ['A', {'aA', 'a'}], ['B', {'b', 'bB'}], ['C', {'C'}]]\n"
     ]
    }
   ],
   "source": [
    "from itertools import combinations\n",
    "\n",
    "for head in heads:\n",
    "    for index, row in enumerate(cfg):\n",
    "        body = set()\n",
    "        for element in row[1]:\n",
    "            if element == 'ε': continue\n",
    "\n",
    "            body.add(element)\n",
    "            print(body)\n",
    "            \n",
    "            if head in element:\n",
    "                index_of_contain_head = []\n",
    "                for i, char in enumerate(element):\n",
    "                    if char == head:\n",
    "                        index_of_contain_head.append(i)\n",
    "                \n",
    "                to_remove = []\n",
    "                for i in range(1, len(index_of_contain_head) + 1):\n",
    "                    for sub in combinations(index_of_contain_head, i):\n",
    "                        to_remove.append(sub)\n",
    "                print(to_remove)\n",
    "\n",
    "                for remove in to_remove:\n",
    "                    new = list(element)\n",
    "                    for x in remove:\n",
    "                        new[x] = ''\n",
    "                    body.add(''.join(new))\n",
    "\n",
    "            print(body, end='\\n\\n')\n",
    "        \n",
    "            new_cfg[index][0] = row[0]\n",
    "            new_cfg[index][1] = new_cfg[index][1].union(body)\n",
    "\n",
    "print(new_cfg)"
   ]
  }
 ],
 "metadata": {
  "kernelspec": {
   "display_name": "Python 3.11.0 64-bit",
   "language": "python",
   "name": "python3"
  },
  "language_info": {
   "codemirror_mode": {
    "name": "ipython",
    "version": 3
   },
   "file_extension": ".py",
   "mimetype": "text/x-python",
   "name": "python",
   "nbconvert_exporter": "python",
   "pygments_lexer": "ipython3",
   "version": "3.11.0"
  },
  "orig_nbformat": 4,
  "vscode": {
   "interpreter": {
    "hash": "8c9dcfb3def1273d6f143982ad221710de63cbd727dea50e6a781e3fe0425823"
   }
  }
 },
 "nbformat": 4,
 "nbformat_minor": 2
}
